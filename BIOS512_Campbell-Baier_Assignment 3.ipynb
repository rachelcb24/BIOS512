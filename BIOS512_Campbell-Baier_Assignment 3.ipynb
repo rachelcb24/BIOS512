{
 "cells": [
  {
   "cell_type": "markdown",
   "id": "e9216b63-c18a-4c9b-beff-4b6b2e1b6964",
   "metadata": {},
   "source": [
    "# BIOS512 Assignment #3"
   ]
  },
  {
   "cell_type": "markdown",
   "id": "4403015e-d27f-473c-8720-088ac6db57c9",
   "metadata": {},
   "source": [
    "Import the 📈Tidyverse into your `R` session"
   ]
  },
  {
   "cell_type": "code",
   "execution_count": null,
   "id": "2cb997c6-b57c-4198-aa5c-8be897467c7c",
   "metadata": {},
   "outputs": [],
   "source": [
    "library('tidyverse')\n",
    "library('ggrepel')"
   ]
  },
  {
   "cell_type": "markdown",
   "id": "47ccf7f6-01c6-46b4-94a1-f8dcd8ef8377",
   "metadata": {},
   "source": [
    "In this assignment we'll be using data from the [TidyTuesday Project](https://github.com/rfordatascience/tidytuesday). Specifically, we'll investigate vaccination rates at US schools. A `CSV` file of the data is located at:  \n",
    "\n",
    "[https://github.com/rfordatascience/tidytuesday/blob/master/data/2020/2020-02-25/measles.csv](https://github.com/rfordatascience/tidytuesday/blob/master/data/2020/2020-02-25/measles.csv)\n",
    "\n",
    "Get the \"raw\" data URL and import it into your `R` session using `read_csv`. Remember to capture the data under a variable name of your choosing!"
   ]
  },
  {
   "cell_type": "code",
   "execution_count": null,
   "id": "13c5bb1b-4625-4e53-9b82-b45f44e213c5",
   "metadata": {
    "tags": []
   },
   "outputs": [],
   "source": [
    "vaccination.rates = read.csv('https://raw.githubusercontent.com/rfordatascience/tidytuesday/refs/heads/master/data/2020/2020-02-25/measles.csv')"
   ]
  },
  {
   "cell_type": "code",
   "execution_count": null,
   "id": "616277cb-6e2f-4c79-a893-6e12c64b1aed",
   "metadata": {
    "tags": []
   },
   "outputs": [],
   "source": [
    "vaccination.rates |> head()"
   ]
  },
  {
   "cell_type": "markdown",
   "id": "feb89cec-8cda-457d-95cf-89dbfa932ab4",
   "metadata": {},
   "source": [
    "The `mmr` column has holds 🤒 measles, mumps, rubella 🤒 vaccination rates for students in each respective school. **If the `mmr` value is not available for a school the `mmr` value is set to -1 in this data set.** \n",
    "\n",
    "The target `mmr` vaccination rate as [recommended by the CDC](https://www.cdc.gov/mmwr/preview/mmwrhtml/mm5632a3.htm) for schools is 95%. \n",
    "\n",
    "**Calculate the fraction of schools per state that have vaccination rates greater than the CDC 95%. Capture the output as a table called `df_vacc_rates`.**\n",
    "\n",
    "You'll need to do use `filter`, `group_by`, and `summarize`. \n",
    "\n",
    "I.e.\n",
    "1. Filter out schools that don't report `mmr` vaccination rate (keep schools where `mmr >= 0`).\n",
    "1. Group the data by `state`.\n",
    "1. Summarize fracion of vaccination rates above 95%.\n",
    "\n",
    "💡Remember `n()` stands for the number or records in a group. Also, `sum(mmr >= 95, na.rm=TRUE)` will count the number of values above or equal to 95.💡"
   ]
  },
  {
   "cell_type": "code",
   "execution_count": 7,
   "id": "0ba9a861-00fc-4392-a67d-cddbd5a994e0",
   "metadata": {},
   "outputs": [
    {
     "data": {
      "text/html": [
       "<table class=\"dataframe\">\n",
       "<caption>A tibble: 6 × 2</caption>\n",
       "<thead>\n",
       "\t<tr><th scope=col>state</th><th scope=col>vaccination.rate</th></tr>\n",
       "\t<tr><th scope=col>&lt;chr&gt;</th><th scope=col>&lt;dbl&gt;</th></tr>\n",
       "</thead>\n",
       "<tbody>\n",
       "\t<tr><td>Arizona    </td><td>0.506404782</td></tr>\n",
       "\t<tr><td>Arkansas   </td><td>0.003527337</td></tr>\n",
       "\t<tr><td>California </td><td>0.888506151</td></tr>\n",
       "\t<tr><td>Colorado   </td><td>0.623092236</td></tr>\n",
       "\t<tr><td>Connecticut</td><td>0.811544992</td></tr>\n",
       "\t<tr><td>Illinois   </td><td>0.896825397</td></tr>\n",
       "</tbody>\n",
       "</table>\n"
      ],
      "text/latex": [
       "A tibble: 6 × 2\n",
       "\\begin{tabular}{ll}\n",
       " state & vaccination.rate\\\\\n",
       " <chr> & <dbl>\\\\\n",
       "\\hline\n",
       "\t Arizona     & 0.506404782\\\\\n",
       "\t Arkansas    & 0.003527337\\\\\n",
       "\t California  & 0.888506151\\\\\n",
       "\t Colorado    & 0.623092236\\\\\n",
       "\t Connecticut & 0.811544992\\\\\n",
       "\t Illinois    & 0.896825397\\\\\n",
       "\\end{tabular}\n"
      ],
      "text/markdown": [
       "\n",
       "A tibble: 6 × 2\n",
       "\n",
       "| state &lt;chr&gt; | vaccination.rate &lt;dbl&gt; |\n",
       "|---|---|\n",
       "| Arizona     | 0.506404782 |\n",
       "| Arkansas    | 0.003527337 |\n",
       "| California  | 0.888506151 |\n",
       "| Colorado    | 0.623092236 |\n",
       "| Connecticut | 0.811544992 |\n",
       "| Illinois    | 0.896825397 |\n",
       "\n"
      ],
      "text/plain": [
       "  state       vaccination.rate\n",
       "1 Arizona     0.506404782     \n",
       "2 Arkansas    0.003527337     \n",
       "3 California  0.888506151     \n",
       "4 Colorado    0.623092236     \n",
       "5 Connecticut 0.811544992     \n",
       "6 Illinois    0.896825397     "
      ]
     },
     "metadata": {},
     "output_type": "display_data"
    }
   ],
   "source": [
    "# create the df_vacc_rates here\n",
    "df_vacc_rates = vaccination.rates |>\n",
    "    filter(mmr >= 0) |>\n",
    "    group_by(state) |>\n",
    "    summarize(vaccination.rate = (sum(mmr >= 95, na.rm = TRUE)/n()))\n",
    "    \n",
    "df_vacc_rates |> head()"
   ]
  },
  {
   "cell_type": "markdown",
   "id": "900ddf7f-d801-4a70-9453-73bdd3277344",
   "metadata": {},
   "source": [
    "Which state (of those that report `mmr`) has the smallest fraction of schools above the CDC target vaccination rate of 95%?  "
   ]
  },
  {
   "cell_type": "markdown",
   "id": "a9564e95-374d-4fcb-acaa-7986ac1bd6d1",
   "metadata": {},
   "source": [
    "Arkansas"
   ]
  },
  {
   "cell_type": "markdown",
   "id": "2866ca03-1f87-466e-ab0a-dd69140496e6",
   "metadata": {},
   "source": [
    "**Make a ECDF plot of the school vaccination rates in North Carolina.** Use the `overall` column which reports the \"overall\" vaccination rate at each school.\n",
    "\n",
    "❗️Remember, you can calculate the `y` value for ECDF charts using `mutate`, and `cume_dist`."
   ]
  },
  {
   "cell_type": "code",
   "execution_count": null,
   "id": "478c5949-b5cb-4a4c-9915-6201427248c1",
   "metadata": {},
   "outputs": [],
   "source": [
    "vaccination.rates |>\n",
    "    filter(overall >= 0) |>\n",
    "    mutate(cumulative_dist = cume_dist(overall)) |>\n",
    "    ggplot(aes(x = overall, y = cumulative_dist)) + \n",
    "        geom_step(direction = 'vh') + \n",
    "        labs(y = 'Fraction of Schools', x = 'Vaccination Rate (%)') + \n",
    "        geom_vline(xintercept = 95, color = 'dark blue') \n",
    "        "
   ]
  },
  {
   "cell_type": "markdown",
   "id": "8f5ea83f-c904-46ee-9f52-af1bd1afbc96",
   "metadata": {},
   "source": [
    "(My solution is below if you want to peek 👀. Uncomment the code, change the cell to `markdown`, and exectute it. I used `geom_text_repel` from [ggrepel](https://cran.r-project.org/web/packages/ggrepel/vignettes/ggrepel.html) fo the annotation.)"
   ]
  },
  {
   "cell_type": "markdown",
   "id": "28c8ae2d-23a9-4773-9ce3-c0b50ca6ef8d",
   "metadata": {},
   "source": [
    "![](https://github.com/chuckpr/BIOS512/blob/main/assignments/2023/measles-chart.png?raw=true)"
   ]
  },
  {
   "cell_type": "markdown",
   "id": "d2041941-dcee-42e8-957f-a725dc36388f",
   "metadata": {},
   "source": [
    "Is the median vaccination rate for NC schools above the CDC recommended target?"
   ]
  },
  {
   "cell_type": "code",
   "execution_count": 10,
   "id": "be2ea536-f8ed-486d-b6e3-9853ac2b01d0",
   "metadata": {},
   "outputs": [
    {
     "data": {
      "text/html": [
       "<table class=\"dataframe\">\n",
       "<caption>A data.frame: 1 × 1</caption>\n",
       "<thead>\n",
       "\t<tr><th scope=col>median.vaccination.rate</th></tr>\n",
       "\t<tr><th scope=col>&lt;dbl&gt;</th></tr>\n",
       "</thead>\n",
       "<tbody>\n",
       "\t<tr><td>95</td></tr>\n",
       "</tbody>\n",
       "</table>\n"
      ],
      "text/latex": [
       "A data.frame: 1 × 1\n",
       "\\begin{tabular}{l}\n",
       " median.vaccination.rate\\\\\n",
       " <dbl>\\\\\n",
       "\\hline\n",
       "\t 95\\\\\n",
       "\\end{tabular}\n"
      ],
      "text/markdown": [
       "\n",
       "A data.frame: 1 × 1\n",
       "\n",
       "| median.vaccination.rate &lt;dbl&gt; |\n",
       "|---|\n",
       "| 95 |\n",
       "\n"
      ],
      "text/plain": [
       "  median.vaccination.rate\n",
       "1 95                     "
      ]
     },
     "metadata": {},
     "output_type": "display_data"
    }
   ],
   "source": [
    "vaccination.rates |>\n",
    "    filter(overall >= 0) |>\n",
    "    summarize(median.vaccination.rate = median(overall, na.rm = TRUE))\n",
    "    "
   ]
  },
  {
   "cell_type": "markdown",
   "id": "c0b23c77-1129-4233-899a-959fe31c4ad9",
   "metadata": {},
   "source": [
    "The median vaccination rate for NC schools is exactly CDC's recommended target"
   ]
  },
  {
   "cell_type": "code",
   "execution_count": null,
   "id": "42915821-33d3-4ed7-95ec-0eca34b88c31",
   "metadata": {},
   "outputs": [],
   "source": []
  }
 ],
 "metadata": {
  "kernelspec": {
   "display_name": ".conda-bios512:R",
   "language": "R",
   "name": "conda-env-.conda-bios512-r"
  },
  "language_info": {
   "codemirror_mode": "r",
   "file_extension": ".r",
   "mimetype": "text/x-r-source",
   "name": "R",
   "pygments_lexer": "r",
   "version": "4.4.1"
  }
 },
 "nbformat": 4,
 "nbformat_minor": 5
}
